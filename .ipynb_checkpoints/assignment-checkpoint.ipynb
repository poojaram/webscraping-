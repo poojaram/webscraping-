{
 "cells": [
  {
   "cell_type": "markdown",
   "metadata": {},
   "source": [
    "# A1: Web Scraping"
   ]
  },
  {
   "cell_type": "markdown",
   "metadata": {},
   "source": [
    "In this assignment, you will scrape the [UW Time Schedule](https://www.washington.edu/students/timeschd/WIN2019/) to compute information about the course offerings in the current quarter."
   ]
  },
  {
   "cell_type": "markdown",
   "metadata": {},
   "source": [
    "## Identifying Departments\n",
    "In this section, you will identify the link to each department or deree program from the time schedule. You will later use these to identify the courses offered by each program."
   ]
  },
  {
   "cell_type": "code",
   "execution_count": 92,
   "metadata": {},
   "outputs": [],
   "source": [
    "# Import libraries you would like to use\n",
    "\n",
    "import requests as r\n",
    "from bs4 import BeautifulSoup as bs, SoupStrainer as ss\n",
    "import numpy as np\n",
    "import pandas as pd\n",
    "import numpy as np\n",
    "import re\n",
    "import matplotlib.pyplot as plt"
   ]
  },
  {
   "cell_type": "code",
   "execution_count": 94,
   "metadata": {},
   "outputs": [],
   "source": [
    "# Using beautiful soup, identify the links to each program on the time schedule page\n",
    "\n",
    "page = r.get(\"http://www.washington.edu/students/timeschd/WIN2019/\")\n",
    "soup = bs(page.content, 'html.parser')\n",
    "\n",
    "emptylink_list = []\n",
    "link_list = []\n",
    "\n",
    "for a in soup.find_all('a', href=True):\n",
    "    emptylink_list.append(a['href'])\n",
    "\n",
    "\n",
    "for i in emptylink_list:\n",
    "    if not i.startswith(\"http\") and not i.startswith(\"/\") and i.endswith(\".html\"):\n",
    "        link_list.append(\"http://www.washington.edu/students/timeschd/WIN2019/\"+i)"
   ]
  },
  {
   "cell_type": "markdown",
   "metadata": {},
   "source": [
    "## Scrape Course Information for Each Program\n",
    "In this section, you will iterate through each program's time schedule page (identified in the previous section). For each program's page, you will collect information about each course offered."
   ]
  },
  {
   "cell_type": "code",
   "execution_count": 95,
   "metadata": {},
   "outputs": [],
   "source": [
    "# For each degree program, scrape the following information for each course:\n",
    "# - Department (e.g., \"BIOL\", \"SOC\")\n",
    "# - Course Number (e.g., \"370\", \"371\")\n",
    "# - Course Title (e.g., \"DATA SCIENCE METHDS\", \"ADV DATA SCI METHDS\")\n",
    "# Store the resulting data in a Pandas data frame\n",
    "\n",
    "links = []\n",
    "i = 0;\n",
    "\n",
    "for url in link_list: \n",
    "    link = str(url)\n",
    "    cource_page = r.get(link)\n",
    "    cource_soup = bs(cource_page.content, 'html.parser')\n",
    "    temp = []\n",
    "    \n",
    "    if cource_soup.find(bgcolor=\"#99ccff\"):\n",
    "        for a in cource_soup.find_all(bgcolor=\"#99ccff\"):\n",
    "            find_a = a.find_all('a')\n",
    "            temp.append(find_a)\n",
    "            \n",
    "        del temp[0]\n",
    "        \n",
    "        for x in temp:\n",
    "            value1 = x[0].get_text()\n",
    "            k = re.search(\"\\d\", value1).start() \n",
    "            value2 = x[1].get_text()\n",
    "            dep = value1[0:k]\n",
    "            text = [dep.replace(u'\\xa0', u' '), int(value1[k:(k+3)]), value2]\n",
    "            links.append(text)"
   ]
  },
  {
   "cell_type": "code",
   "execution_count": 96,
   "metadata": {},
   "outputs": [],
   "source": [
    "# Write the dataframe to a .csv file in this directory (make sure to exclude row numbers)\n",
    "\n",
    "labels = ['department', 'course_number', 'course_title']\n",
    "df = pd.DataFrame.from_records(links, columns=labels)\n",
    "df.to_csv(\"courses.csv\", index=False)"
   ]
  },
  {
   "cell_type": "markdown",
   "metadata": {},
   "source": [
    "##  Summary Statistics\n",
    "In this section, you will use the dataframe of courses to answer questions about the courses offered. Unless otherwise stated, feel free to simply print out a number that answers a given question. "
   ]
  },
  {
   "cell_type": "code",
   "execution_count": 97,
   "metadata": {},
   "outputs": [
    {
     "name": "stdout",
     "output_type": "stream",
     "text": [
      "Total Number of courses offered: 4793\n"
     ]
    }
   ],
   "source": [
    "# How many total courses are offered this quarter at UW?\n",
    "\n",
    "tot_courses = len(df)\n",
    "print(\"Total Number of courses offered: \" + str(tot_courses))"
   ]
  },
  {
   "cell_type": "code",
   "execution_count": 98,
   "metadata": {},
   "outputs": [
    {
     "name": "stdout",
     "output_type": "stream",
     "text": [
      "Total Number of departments present: 286\n"
     ]
    }
   ],
   "source": [
    "# How many different departments are there on the time schedule?\n",
    "\n",
    "tot_dept = len(df.groupby(['department']))\n",
    "print(\"Total Number of departments present: \"+ str(tot_dept))"
   ]
  },
  {
   "cell_type": "code",
   "execution_count": 104,
   "metadata": {},
   "outputs": [
    {
     "name": "stdout",
     "output_type": "stream",
     "text": [
      "The department with the fewest courses is ACADEM, offering 1 courses.\n"
     ]
    }
   ],
   "source": [
    "# Which department offers the fewest courses, and how many courses does it offer?\n",
    "# Print out the sentence: \"The department with the fewest courses is ____, offering ___ courses.\"\n",
    "\n",
    "dept = pd.DataFrame(df.groupby(['department']).count())\n",
    "dept_count = dept.drop(['course_title'],axis=1)\n",
    "dept_count = dept_count.rename(index=str, columns={\"course_number\": \"course_count\"})\n",
    "dept_min = pd.DataFrame(dept_count.loc[dept_count['course_count'].idxmin()])\n",
    "print(\"The department with the fewest courses is \" + str(dept_min.columns.values[0].replace(\" \",\"\")) +\n",
    "    \", offering \" +  str(dept_min.values[0][0]) + \" courses.\")"
   ]
  },
  {
   "cell_type": "code",
   "execution_count": 105,
   "metadata": {},
   "outputs": [
    {
     "name": "stdout",
     "output_type": "stream",
     "text": [
      "The department with the most courses is BIOL, offering 177 courses.\n"
     ]
    }
   ],
   "source": [
    "# Which department has the most courses, and how many courses does it offer?\n",
    "# Print out the sentence: \"The department with the most courses is ____, offering ___ courses.\"\n",
    "\n",
    "dept_max = pd.DataFrame(dept_count.loc[dept_count['course_count'].idxmax()])\n",
    "print(\"The department with the most courses is \" + str(dept_max.columns.values[0].replace(\" \",\"\")) + \n",
    "      \", offering \" +  str(dept_max.values[0][0]) + \" courses.\")"
   ]
  },
  {
   "cell_type": "code",
   "execution_count": 106,
   "metadata": {},
   "outputs": [
    {
     "name": "stdout",
     "output_type": "stream",
     "text": [
      "Average number of courses offered equals 16.7587\n"
     ]
    }
   ],
   "source": [
    "# What is the average number of courses offered by each department?\n",
    "\n",
    "avg_count = tot_courses/tot_dept\n",
    "print(\"Average number of courses offered equals \" + str(round(avg_count,4)))"
   ]
  },
  {
   "cell_type": "code",
   "execution_count": 107,
   "metadata": {},
   "outputs": [
    {
     "name": "stdout",
     "output_type": "stream",
     "text": [
      "There are 222 100-level courses offered next quarter.\n"
     ]
    }
   ],
   "source": [
    "# How many 100 level courses are offered next quarter?\n",
    "\n",
    "course_list = list(df['course_number'])\n",
    "count_of_hundred = 0   \n",
    "for i in range(len(course_list)):\n",
    "    if(course_list[i] < 200):\n",
    "        count_of_hundred += 1\n",
    "print(\"There are \" + str(count_of_hundred) + \" 100-level courses offered next quarter.\")"
   ]
  },
  {
   "cell_type": "code",
   "execution_count": 108,
   "metadata": {},
   "outputs": [
    {
     "name": "stdout",
     "output_type": "stream",
     "text": [
      "The following are top 10 departments offering hardest courses assesed by average course number:\n",
      "department\n",
      "N&MES        800.000000\n",
      "IPHD         700.000000\n",
      "QERM         674.250000\n",
      "DENTGP       670.000000\n",
      "DENTSL       663.000000\n",
      "FAMED        656.945946\n",
      "MEDECK       654.000000\n",
      "SURG         650.489796\n",
      "MED EM       648.090909\n",
      "ANEST        647.846154\n",
      "Name: average, dtype: float64\n"
     ]
    }
   ],
   "source": [
    "# Which departments offer the hardest courses (as assessed by average course number)?\n",
    "dept_sum = list(df.groupby(['department']).course_number.agg('sum'))\n",
    "cc = list(dept_count['course_count'])\n",
    "avg = [0]*len(dept_count)\n",
    "for i in range (len(dept_sum)):\n",
    "    avg[i] = dept_sum[i]/cc[i]\n",
    "\n",
    "dept_avg = dept_count\n",
    "dept_avg['average']=avg\n",
    "hard10dept = dept_avg.sort_values(by='average', ascending=False).head(10)\n",
    "# Hardest 10 **departments** as assessed by average course number\n",
    "print(\"The following are top 10 departments offering hardest courses assesed by average course number:\")\n",
    "print(hard10dept.loc[:,'average'])"
   ]
  },
  {
   "cell_type": "markdown",
   "metadata": {},
   "source": [
    "## Data Visualization\n",
    "In this section, you will use visualization techniques to answer questions of interest. Make sure to include clear axis labels and chart titles for each graph."
   ]
  },
  {
   "cell_type": "code",
   "execution_count": 110,
   "metadata": {
    "scrolled": true
   },
   "outputs": [
    {
     "data": {
      "image/png": "[encoded data removed]",
      "text/plain": [
       "<Figure size 432x288 with 1 Axes>"
      ]
     },
     "metadata": {
      "needs_background": "light"
     },
     "output_type": "display_data"
    }
   ],
   "source": [
    "# Which departments offer the highest number of courses?\n",
    "# Use a horizontal bar chart of the 10 departments with the highest number of courses to answer this question\n",
    "#fig, figure1 = plt.subplots()\n",
    "\n",
    "dept_count10 = dept_count.sort_values(by='course_count',ascending=False).head(10)\n",
    "dept_count10 = dept_count10.drop(columns=['average'])\n",
    "\n",
    "dept_count10.plot(kind='barh', color=\"red\", edgecolor=\"black\",\n",
    "                           title=\"Top 10 Departments with highest number of courses offered\", align='edge')\n",
    "plt.xlabel('Count')\n",
    "plt.ylabel(\"Departments\")\n",
    "plt.show()"
   ]
  },
  {
   "cell_type": "code",
   "execution_count": 111,
   "metadata": {},
   "outputs": [
    {
     "data": {
      "image/png": "[encoded data removed]",
      "text/plain": [
       "<Figure size 432x288 with 1 Axes>"
      ]
     },
     "metadata": {
      "needs_background": "light"
     },
     "output_type": "display_data"
    }
   ],
   "source": [
    "# Which departments offer the hardest courses?\n",
    "# Use a horizontal bar chart of the 10 departments with the highest average course number to answer this question\n",
    "\n",
    "dept_hard10 = hard10dept.drop(columns=['course_count'])\n",
    "dept_hard10.plot(kind='barh',color=\"orange\",edgecolor=\"black\",\n",
    "                         title=\"Top 10 Departments with hardest courses\", align='edge')\n",
    "plt.xlabel(\"Count\")\n",
    "plt.ylabel(\"Departments\")\n",
    "plt.legend(loc=1, prop={'size': 8.5})\n",
    "plt.show()"
   ]
  },
  {
   "cell_type": "code",
   "execution_count": 84,
   "metadata": {},
   "outputs": [
    {
     "data": {
      "image/png": "[encoded data removed]",
      "text/plain": [
       "<Figure size 432x288 with 1 Axes>"
      ]
     },
     "metadata": {
      "needs_background": "light"
     },
     "output_type": "display_data"
    }
   ],
   "source": [
    "# What is the relationship between the number of courses offered and the difficulty?\n",
    "# Use a scatter plot of number of courses v.s. average course difficult to assess this relationship\n",
    "\n",
    "plt.title(\"Scatterplot of Number of courses v.s. Average course difficulty\")\n",
    "plt.xlabel(\"Course count\")\n",
    "plt.ylabel(\"Average course difficulty\")\n",
    "\n",
    "plt.scatter(dept_avg.course_count,dept_avg.average, s=2, c=['green'])\n",
    "plt.show()"
   ]
  },
  {
   "cell_type": "markdown",
   "metadata": {},
   "source": [
    "**Analysis of the Scatterplot:**\n",
    "From the scatterplot, we can see the average distribution of classes based on their level of difficulty. Meaning, there is only one blue point at _800_ and that has a rough x-value of 1 which shows there is only one class with 800 level of difficulty. And we see that most of the classes have about roughly _400_ level of difficulty, and this can be observed from the blue point plotted at _(175 , 420)_ approximately. Most of the departments have classes with average difficuty level ranging between _400_ and _600_, and they offer about 5 to 25 courses."
   ]
  },
  {
   "cell_type": "code",
   "execution_count": 112,
   "metadata": {},
   "outputs": [
    {
     "data": {
      "image/png": "[encoded data removed]",
      "text/plain": [
       "<Figure size 432x288 with 1 Axes>"
      ]
     },
     "metadata": {
      "needs_background": "light"
     },
     "output_type": "display_data"
    }
   ],
   "source": [
    "# How many courses fall into each level (100, 200, etc?)?\n",
    "# Use a horizontal bar chart of the number of courses of each level to answer this questions\n",
    "\n",
    "courses_list = list(df['course_number'])\n",
    "count = 0  \n",
    "count_list = list()\n",
    "course_start = 100\n",
    "course_end = 200\n",
    "\n",
    "for j in range(8):\n",
    "    for i in range(len(course_list)):\n",
    "        if(courses_list[i] >= course_start):\n",
    "            if(courses_list[i] < course_end):\n",
    "                count = count + 1\n",
    "                \n",
    "    count_list.append(count)\n",
    "    count = 0  \n",
    "    course_start += 100\n",
    "    course_end += 100\n",
    "\n",
    "fig, ax = plt.subplots()\n",
    "height = count_list\n",
    "bars = ('100','200','300','400','500','600','700','800')\n",
    "y_pos = np.arange(len(bars))\n",
    "ax.barh(y_pos, height, align='edge', color='pink')\n",
    "ax.set_yticks(y_pos)\n",
    "ax.set_yticklabels(bars)\n",
    "ax.set_xlabel('Count')\n",
    "ax.set_ylabel('Course Level')\n",
    "ax.set_title('Number of courses of each level')\n",
    "plt.show()"
   ]
  },
  {
   "cell_type": "markdown",
   "metadata": {},
   "source": [
    "**Remarks on the plot:**\n",
    "It is interesting to observe that the horizontal bar chart of the number of courses of each level is roughly a **normal plot** with the highest around 500. Of course, the course numbers weren't intentionally normalized, but it is interesting that they turned out form a normal curve approximately. "
   ]
  }
 ],
 "metadata": {
  "kernelspec": {
   "display_name": "Python 3",
   "language": "python",
   "name": "python3"
  },
  "language_info": {
   "codemirror_mode": {
    "name": "ipython",
    "version": 3
   },
   "file_extension": ".py",
   "mimetype": "text/x-python",
   "name": "python",
   "nbconvert_exporter": "python",
   "pygments_lexer": "ipython3",
   "version": "3.7.0"
  }
 },
 "nbformat": 4,
 "nbformat_minor": 2
}
