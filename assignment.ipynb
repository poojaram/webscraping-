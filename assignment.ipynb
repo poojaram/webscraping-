{
 "cells": [
  {
   "cell_type": "markdown",
   "metadata": {},
   "source": [
    "# A1: Web Scraping"
   ]
  },
  {
   "cell_type": "markdown",
   "metadata": {},
   "source": [
    "In this assignment, you will scrape the [UW Time Schedule](https://www.washington.edu/students/timeschd/WIN2019/) to compute information about the course offerings in the current quarter."
   ]
  },
  {
   "cell_type": "markdown",
   "metadata": {},
   "source": [
    "## Identifying Departments\n",
    "In this section, you will identify the link to each department or deree program from the time schedule. You will later use these to identify the courses offered by each program."
   ]
  },
  {
   "cell_type": "code",
   "execution_count": 1,
   "metadata": {},
   "outputs": [],
   "source": [
    "# Import libraries you would like to use"
   ]
  },
  {
   "cell_type": "code",
   "execution_count": 2,
   "metadata": {},
   "outputs": [],
   "source": [
    "# Using beautiful soup, identify the links to each program on the time schedule page"
   ]
  },
  {
   "cell_type": "markdown",
   "metadata": {},
   "source": [
    "## Scrape Course Information for Each Program\n",
    "In this section, you will iterate through each program's time schedule page (identified in the previous section). For each program's page, you will collect information about each course offered."
   ]
  },
  {
   "cell_type": "code",
   "execution_count": 3,
   "metadata": {},
   "outputs": [],
   "source": [
    "# For each degree program, scrape the following information for each course:\n",
    "# - Department (e.g., \"BIOL\", \"SOC\")\n",
    "# - Course Number (e.g., \"370\", \"371\")\n",
    "# - Course Title (e.g., \"DATA SCIENCE METHDS\", \"ADV DATA SCI METHDS\")\n",
    "# Store the resulting data in a Pandas data frame"
   ]
  },
  {
   "cell_type": "code",
   "execution_count": 4,
   "metadata": {},
   "outputs": [],
   "source": [
    "# Write the dataframe to a .csv file in this directory (make sure to exclude row numbers)"
   ]
  },
  {
   "cell_type": "markdown",
   "metadata": {},
   "source": [
    "##  Summary Statistics\n",
    "In this section, you will use the dataframe of courses to answer questions about the courses offered. Unless otherwise stated, feel free to simply print out a number that answers a given question. "
   ]
  },
  {
   "cell_type": "code",
   "execution_count": 5,
   "metadata": {},
   "outputs": [],
   "source": [
    "# How many total courses are offered this quarter at UW?"
   ]
  },
  {
   "cell_type": "code",
   "execution_count": 6,
   "metadata": {},
   "outputs": [],
   "source": [
    "# How many different departments are there on the time schedule?"
   ]
  },
  {
   "cell_type": "code",
   "execution_count": 7,
   "metadata": {},
   "outputs": [],
   "source": [
    "# Which department offers the fewest courses, and how many courses does it offer?\n",
    "# Print out the sentence: \"The department with the fewest courses is ____, offering ___ courses.\""
   ]
  },
  {
   "cell_type": "code",
   "execution_count": 8,
   "metadata": {},
   "outputs": [],
   "source": [
    "# Which department has the most courses, and how many courses does it offer?\n",
    "# Print out the sentence: \"The department with the most courses is ____, offering ___ courses.\""
   ]
  },
  {
   "cell_type": "code",
   "execution_count": 9,
   "metadata": {},
   "outputs": [],
   "source": [
    "# What is the average number of courses offered by each department?"
   ]
  },
  {
   "cell_type": "code",
   "execution_count": 10,
   "metadata": {},
   "outputs": [],
   "source": [
    "# How many 100 level courses are offered next quarter?"
   ]
  },
  {
   "cell_type": "code",
   "execution_count": 11,
   "metadata": {},
   "outputs": [],
   "source": [
    "# Which departments offer the hardest courses (as assessed by average course number)?"
   ]
  },
  {
   "cell_type": "markdown",
   "metadata": {},
   "source": [
    "## Data Visualization\n",
    "In this section, you will use visualization techniques to answer questions of interest. Make sure to include clear axis labels and chart titles for each graph."
   ]
  },
  {
   "cell_type": "code",
   "execution_count": 12,
   "metadata": {
    "scrolled": true
   },
   "outputs": [],
   "source": [
    "# Which departments offer the highest number of courses?\n",
    "# Use a horizontal bar chart of the 10 departments with the highest number of courses to answer this question"
   ]
  },
  {
   "cell_type": "code",
   "execution_count": 13,
   "metadata": {},
   "outputs": [],
   "source": [
    "# Which departments offer the hardest courses?\n",
    "# Use a horizontal bar chart of the 10 departments with the highest average course number to answer this question"
   ]
  },
  {
   "cell_type": "code",
   "execution_count": 14,
   "metadata": {},
   "outputs": [],
   "source": [
    "# What is the relationship between the number of courses offered and the difficulty?\n",
    "# Use a scatter plot of number of courses v.s. average course difficult to assess this relationship"
   ]
  },
  {
   "cell_type": "markdown",
   "metadata": {},
   "source": [
    "_In this markdown section, note the relationship you observe in the scatterplot that you make_"
   ]
  },
  {
   "cell_type": "code",
   "execution_count": 15,
   "metadata": {},
   "outputs": [],
   "source": [
    "# How many courses fall into each level (100, 200, etc?)?\n",
    "# Use a horizontal bar chart of the number of courses of each level to answer this questions"
   ]
  },
  {
   "cell_type": "markdown",
   "metadata": {},
   "source": [
    "_In this markdown section, note anything that surprised you in this analysis_"
   ]
  }
 ],
 "metadata": {
  "kernelspec": {
   "display_name": "Python 3",
   "language": "python",
   "name": "python3"
  },
  "language_info": {
   "codemirror_mode": {
    "name": "ipython",
    "version": 3
   },
   "file_extension": ".py",
   "mimetype": "text/x-python",
   "name": "python",
   "nbconvert_exporter": "python",
   "pygments_lexer": "ipython3",
   "version": "3.6.5"
  }
 },
 "nbformat": 4,
 "nbformat_minor": 2
}
